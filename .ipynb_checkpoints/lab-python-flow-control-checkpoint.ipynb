{
 "cells": [
  {
   "cell_type": "markdown",
   "id": "d3bfc191-8885-42ee-b0a0-bbab867c6f9f",
   "metadata": {
    "tags": []
   },
   "source": [
    "# Lab | Flow Control"
   ]
  },
  {
   "cell_type": "markdown",
   "id": "3851fcd1-cf98-4653-9c89-e003b7ec9400",
   "metadata": {},
   "source": [
    "## Exercise: Managing Customer Orders Optimized\n",
    "\n",
    "In the last lab, you were starting an online store that sells various products. To ensure smooth operations, you developed a program that manages customer orders and inventory.\n",
    "\n",
    "You did so without using flow control. Let's go a step further and improve this code.\n",
    "\n",
    "Follow the steps below to complete the exercise:\n",
    "\n",
    "1. Look at your code from the lab data structures, and improve repeated code with loops.\n",
    "\n",
    "2. Instead of asking the user to input the name of three products that a customer wants to order, do the following:\n",
    "    \n",
    "    a. Prompt the user to enter the name of a product that a customer wants to order.\n",
    "    \n",
    "    b. Add the product name to the \"customer_orders\" set.\n",
    "    \n",
    "    c. Ask the user if they want to add another product (yes/no).\n",
    "    \n",
    "    d. Continue the loop until the user does not want to add another product.\n",
    "\n",
    "3. Instead of updating the inventory by subtracting 1 from the quantity of each product, only do it for  the products that were ordered (those in \"customer_orders\")."
   ]
  },
  {
   "cell_type": "code",
   "execution_count": 11,
   "id": "1434e919-887f-4315-a2d7-fde8e090acff",
   "metadata": {},
   "outputs": [
    {
     "name": "stdin",
     "output_type": "stream",
     "text": [
      "What quantity is available for t-shirt? 5\n",
      "What quantity is available for mug? 5\n",
      "What quantity is available for hat? 5\n",
      "What quantity is available for book? 5\n",
      "What quantity is available for keychain? 5\n",
      "What would you like to order? book\n",
      "Do you want to order another product? (Yes or No) yes\n",
      "What would you like to order? hat\n",
      "Do you want to order another product? (Yes or No) yes\n",
      "What would you like to order? mug\n",
      "Do you want to order another product? (Yes or No) no\n"
     ]
    },
    {
     "name": "stdout",
     "output_type": "stream",
     "text": [
      "Order Statistics:\n",
      "Total Products Ordered: 3\n",
      "Percentage of Products Ordered: 12%\n",
      "t-shirt inventory: 5\n",
      "mug inventory: 4\n",
      "hat inventory: 4\n",
      "book inventory: 4\n",
      "keychain inventory: 5\n"
     ]
    }
   ],
   "source": [
    "products = [\"t-shirt\", \"mug\", \"hat\", \"book\", \"keychain\"]\n",
    "inventory = {}\n",
    "for item in products:\n",
    "    inventory[item] = int(input(f\"What quantity is available for {item}?\"))\n",
    "\n",
    "customer_orders = set()\n",
    "\n",
    "order_again = \"yes\"\n",
    "while order_again.lower() == \"yes\":\n",
    "    customer_orders.add(input(\"What would you like to order?\"))\n",
    "    order_again = input(\"Do you want to order another product? (Yes or No)\")\n",
    "\n",
    "total_products_ordered = len(customer_orders)\n",
    "percentage_ordered = int(len(customer_orders)/sum(inventory.values())*100)\n",
    "\n",
    "order_status = (total_products_ordered, percentage_ordered)\n",
    "\n",
    "print(f\"Order Statistics:\\nTotal Products Ordered: {total_products_ordered}\\nPercentage of Products Ordered: {percentage_ordered}%\")\n",
    "\n",
    "for item in customer_orders:\n",
    "    inventory[item] -= 1\n",
    "\n",
    "for item in inventory:\n",
    "    print(f\"{item} inventory: {inventory[item]}\")"
   ]
  },
  {
   "cell_type": "code",
   "execution_count": null,
   "id": "3c2cb952-665c-4001-9a1d-fb6f0a912f9d",
   "metadata": {},
   "outputs": [],
   "source": []
  }
 ],
 "metadata": {
  "kernelspec": {
   "display_name": "Python [conda env:base] *",
   "language": "python",
   "name": "conda-base-py"
  },
  "language_info": {
   "codemirror_mode": {
    "name": "ipython",
    "version": 3
   },
   "file_extension": ".py",
   "mimetype": "text/x-python",
   "name": "python",
   "nbconvert_exporter": "python",
   "pygments_lexer": "ipython3",
   "version": "3.11.3"
  }
 },
 "nbformat": 4,
 "nbformat_minor": 5
}
